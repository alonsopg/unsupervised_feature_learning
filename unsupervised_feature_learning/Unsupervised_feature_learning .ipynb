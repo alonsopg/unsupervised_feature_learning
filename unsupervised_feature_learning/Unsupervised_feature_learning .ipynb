{
 "cells": [
  {
   "cell_type": "markdown",
   "metadata": {},
   "source": [
    "# Unsupervised feature learning"
   ]
  },
  {
   "cell_type": "markdown",
   "metadata": {},
   "source": [
    "Assume that we do not know the actual labels of a bunch of opinions or any other dataset. We can perform unsupervised feature learning to extract the labels of a unlabeled dataset. This is very useful, since when we scrap free text from the web we can label it in order to perform unsupervised learning techniques to predict or classify new instances. I will use the same opinions of my [thesis](http://132.248.9.195/ptd2016/mayo/307602673/Index.html), the task was about perform sentiment analysis from a corpus of washing machine reviews in spanish (i.e. sentiment classification from 1-5 stars).\n"
   ]
  },
  {
   "cell_type": "markdown",
   "metadata": {},
   "source": [
    "## First read the data:"
   ]
  },
  {
   "cell_type": "code",
   "execution_count": 41,
   "metadata": {
    "collapsed": false
   },
   "outputs": [
    {
     "data": {
      "text/html": [
       "<div>\n",
       "<table border=\"1\" class=\"dataframe\">\n",
       "  <thead>\n",
       "    <tr style=\"text-align: right;\">\n",
       "      <th></th>\n",
       "      <th>id</th>\n",
       "      <th>content</th>\n",
       "    </tr>\n",
       "  </thead>\n",
       "  <tbody>\n",
       "    <tr>\n",
       "      <th>0</th>\n",
       "      <td>AEG_Electrolux_60840_Lavamat__Opinion_1506705....</td>\n",
       "      <td>'Silencio y facilidad. Con estas dos palabras...</td>\n",
       "    </tr>\n",
       "    <tr>\n",
       "      <th>1</th>\n",
       "      <td>AEG_Electrolux_62610_Lavamat__Opinion_2000923....</td>\n",
       "      <td>'Hola compis!No sabía como se ponía una lavad...</td>\n",
       "    </tr>\n",
       "    <tr>\n",
       "      <th>2</th>\n",
       "      <td>AEG_Electrolux_L14800VI__Opinion_2005396.html.txt</td>\n",
       "      <td>'Esta lavadora es de lo más práctica para aqu...</td>\n",
       "    </tr>\n",
       "    <tr>\n",
       "      <th>3</th>\n",
       "      <td>AEG_Electrolux_L6227FL__Opinion_2140710.html.txt</td>\n",
       "      <td>'Buenas tardes amigos y compañeros de ciao......</td>\n",
       "    </tr>\n",
       "    <tr>\n",
       "      <th>4</th>\n",
       "      <td>AEG_Electrolux_L62280FL__Opinion_2151025.html.txt</td>\n",
       "      <td>'Empecemos por una ventaja muy importante: la...</td>\n",
       "    </tr>\n",
       "  </tbody>\n",
       "</table>\n",
       "</div>"
      ],
      "text/plain": [
       "                                                  id  \\\n",
       "0  AEG_Electrolux_60840_Lavamat__Opinion_1506705....   \n",
       "1  AEG_Electrolux_62610_Lavamat__Opinion_2000923....   \n",
       "2  AEG_Electrolux_L14800VI__Opinion_2005396.html.txt   \n",
       "3   AEG_Electrolux_L6227FL__Opinion_2140710.html.txt   \n",
       "4  AEG_Electrolux_L62280FL__Opinion_2151025.html.txt   \n",
       "\n",
       "                                             content  \n",
       "0   'Silencio y facilidad. Con estas dos palabras...  \n",
       "1   'Hola compis!No sabía como se ponía una lavad...  \n",
       "2   'Esta lavadora es de lo más práctica para aqu...  \n",
       "3   'Buenas tardes amigos y compañeros de ciao......  \n",
       "4   'Empecemos por una ventaja muy importante: la...  "
      ]
     },
     "execution_count": 41,
     "metadata": {},
     "output_type": "execute_result"
    }
   ],
   "source": [
    "import pandas as pd\n",
    "\n",
    "\n",
    "df = pd.read_csv('/Users/user/jupyter_notebooks/unsupervised_feature_learning/data/new_corpus.csv', sep = '|', names=['id','content']).dropna()\n",
    "\n",
    "\n",
    "X = df['content']\n",
    "\n",
    "#y = df['label'].values\n",
    "df.head()"
   ]
  },
  {
   "cell_type": "markdown",
   "metadata": {},
   "source": [
    "## Vectorize our data"
   ]
  },
  {
   "cell_type": "code",
   "execution_count": 52,
   "metadata": {
    "collapsed": false
   },
   "outputs": [
    {
     "data": {
      "text/plain": [
       "array([[0, 1, 0, ..., 0, 0, 0],\n",
       "       [0, 0, 0, ..., 0, 0, 0],\n",
       "       [0, 0, 0, ..., 0, 0, 0],\n",
       "       ..., \n",
       "       [0, 0, 0, ..., 0, 0, 0],\n",
       "       [0, 0, 0, ..., 0, 0, 0],\n",
       "       [0, 0, 0, ..., 0, 0, 0]], dtype=int64)"
      ]
     },
     "execution_count": 52,
     "metadata": {},
     "output_type": "execute_result"
    }
   ],
   "source": [
    "\n",
    "from sklearn.feature_extraction.text import CountVectorizer\n",
    "count_vect = CountVectorizer()\n",
    "X = count_vect.fit_transform(X)\n",
    "X.toarray()"
   ]
  },
  {
   "cell_type": "markdown",
   "metadata": {},
   "source": [
    "## With K-means:"
   ]
  },
  {
   "cell_type": "code",
   "execution_count": 16,
   "metadata": {
    "collapsed": false
   },
   "outputs": [
    {
     "data": {
      "text/plain": [
       "KMeans(copy_x=True, init='k-means++', max_iter=300, n_clusters=5, n_init=10,\n",
       "    n_jobs=1, precompute_distances='auto', random_state=None, tol=0.0001,\n",
       "    verbose=0)"
      ]
     },
     "execution_count": 16,
     "metadata": {},
     "output_type": "execute_result"
    }
   ],
   "source": [
    "from sklearn import cluster\n",
    "k_means = cluster.KMeans(n_clusters=5)\n",
    "k_means.fit(X)"
   ]
  },
  {
   "cell_type": "markdown",
   "metadata": {},
   "source": [
    "## We learned the labels:"
   ]
  },
  {
   "cell_type": "code",
   "execution_count": 19,
   "metadata": {
    "collapsed": false
   },
   "outputs": [
    {
     "data": {
      "text/plain": [
       "array([3, 1, 3, 3, 3, 3, 3, 3, 2, 0, 2, 3, 1, 3, 3, 3, 3, 3, 1, 2, 1, 1, 3,\n",
       "       3, 3, 3, 3, 3, 4, 3, 3, 1, 4, 3, 4, 3, 2, 3, 3, 2, 2, 3, 3, 3, 3, 3,\n",
       "       3, 1, 3, 3, 1, 3, 3, 1, 3, 3, 3, 3, 3, 3, 0, 2, 3, 3, 3, 3, 3, 3, 2,\n",
       "       3, 1, 4, 3, 1, 4, 3, 3, 3, 3, 3, 3, 1, 3, 1, 3, 4, 3, 3, 3, 3, 3, 3,\n",
       "       1, 1, 3, 3, 3, 3, 3, 1, 3, 0, 3, 2, 3, 3, 1, 3, 3, 3, 3, 3, 1, 1, 3,\n",
       "       3, 4, 3, 1, 1, 3, 3, 3, 3, 3, 1, 3, 3, 3, 1, 3, 3, 4, 1, 3, 3, 4, 3,\n",
       "       3, 3, 3, 4, 1, 3, 3, 3, 3, 3, 3, 3, 2, 3, 3, 3, 3, 3, 3, 3, 1, 3, 3,\n",
       "       3, 1, 4, 3, 3, 3, 3, 3, 4, 3, 1, 1, 4, 3, 3, 3, 4, 3, 3, 3, 1, 2, 3,\n",
       "       1, 3, 3, 3, 3, 3, 3, 3, 3, 1, 1, 3, 1, 4, 2, 1, 3, 1, 1, 1, 4, 3, 1,\n",
       "       3, 3, 4, 3, 3, 3, 3, 4, 3, 3, 1, 3, 1, 3, 3, 3, 1, 1, 3, 3, 3, 0, 3,\n",
       "       3, 3, 3, 3, 2, 3, 3, 2, 1, 3, 3, 3, 1, 2, 3, 3, 3, 2, 3, 3, 1, 1, 3,\n",
       "       3, 3, 3, 0, 0, 3, 3, 3, 3], dtype=int32)"
      ]
     },
     "execution_count": 19,
     "metadata": {},
     "output_type": "execute_result"
    }
   ],
   "source": [
    "k_means.labels_[::10]"
   ]
  },
  {
   "cell_type": "code",
   "execution_count": 24,
   "metadata": {
    "collapsed": false
   },
   "outputs": [
    {
     "data": {
      "text/plain": [
       "numpy.ndarray"
      ]
     },
     "execution_count": 24,
     "metadata": {},
     "output_type": "execute_result"
    }
   ],
   "source": [
    "y = k_means.labels_\n",
    "type(y)"
   ]
  },
  {
   "cell_type": "markdown",
   "metadata": {},
   "source": [
    "## Now let's rearrange the dataframe "
   ]
  },
  {
   "cell_type": "code",
   "execution_count": 45,
   "metadata": {
    "collapsed": false
   },
   "outputs": [],
   "source": [
    "df['labels'] = y"
   ]
  },
  {
   "cell_type": "code",
   "execution_count": 46,
   "metadata": {
    "collapsed": false
   },
   "outputs": [
    {
     "data": {
      "text/html": [
       "<div>\n",
       "<table border=\"1\" class=\"dataframe\">\n",
       "  <thead>\n",
       "    <tr style=\"text-align: right;\">\n",
       "      <th></th>\n",
       "      <th>id</th>\n",
       "      <th>content</th>\n",
       "      <th>labels</th>\n",
       "    </tr>\n",
       "  </thead>\n",
       "  <tbody>\n",
       "    <tr>\n",
       "      <th>0</th>\n",
       "      <td>AEG_Electrolux_60840_Lavamat__Opinion_1506705....</td>\n",
       "      <td>'Silencio y facilidad. Con estas dos palabras...</td>\n",
       "      <td>3</td>\n",
       "    </tr>\n",
       "    <tr>\n",
       "      <th>1</th>\n",
       "      <td>AEG_Electrolux_62610_Lavamat__Opinion_2000923....</td>\n",
       "      <td>'Hola compis!No sabía como se ponía una lavad...</td>\n",
       "      <td>3</td>\n",
       "    </tr>\n",
       "    <tr>\n",
       "      <th>2</th>\n",
       "      <td>AEG_Electrolux_L14800VI__Opinion_2005396.html.txt</td>\n",
       "      <td>'Esta lavadora es de lo más práctica para aqu...</td>\n",
       "      <td>3</td>\n",
       "    </tr>\n",
       "    <tr>\n",
       "      <th>3</th>\n",
       "      <td>AEG_Electrolux_L6227FL__Opinion_2140710.html.txt</td>\n",
       "      <td>'Buenas tardes amigos y compañeros de ciao......</td>\n",
       "      <td>3</td>\n",
       "    </tr>\n",
       "    <tr>\n",
       "      <th>4</th>\n",
       "      <td>AEG_Electrolux_L62280FL__Opinion_2151025.html.txt</td>\n",
       "      <td>'Empecemos por una ventaja muy importante: la...</td>\n",
       "      <td>3</td>\n",
       "    </tr>\n",
       "  </tbody>\n",
       "</table>\n",
       "</div>"
      ],
      "text/plain": [
       "                                                  id  \\\n",
       "0  AEG_Electrolux_60840_Lavamat__Opinion_1506705....   \n",
       "1  AEG_Electrolux_62610_Lavamat__Opinion_2000923....   \n",
       "2  AEG_Electrolux_L14800VI__Opinion_2005396.html.txt   \n",
       "3   AEG_Electrolux_L6227FL__Opinion_2140710.html.txt   \n",
       "4  AEG_Electrolux_L62280FL__Opinion_2151025.html.txt   \n",
       "\n",
       "                                             content  labels  \n",
       "0   'Silencio y facilidad. Con estas dos palabras...       3  \n",
       "1   'Hola compis!No sabía como se ponía una lavad...       3  \n",
       "2   'Esta lavadora es de lo más práctica para aqu...       3  \n",
       "3   'Buenas tardes amigos y compañeros de ciao......       3  \n",
       "4   'Empecemos por una ventaja muy importante: la...       3  "
      ]
     },
     "execution_count": 46,
     "metadata": {},
     "output_type": "execute_result"
    }
   ],
   "source": [
    "df.head()"
   ]
  },
  {
   "cell_type": "code",
   "execution_count": 49,
   "metadata": {
    "collapsed": false
   },
   "outputs": [
    {
     "data": {
      "text/plain": [
       "3    1753\n",
       "1     543\n",
       "2     181\n",
       "4     106\n",
       "0      35\n",
       "Name: labels, dtype: int64"
      ]
     },
     "execution_count": 49,
     "metadata": {},
     "output_type": "execute_result"
    }
   ],
   "source": [
    "df['labels'].value_counts()"
   ]
  },
  {
   "cell_type": "markdown",
   "metadata": {},
   "source": [
    "## With DBSCAN"
   ]
  },
  {
   "cell_type": "markdown",
   "metadata": {},
   "source": [
    "Now let's assume that we do not know with how many stars perform classification, let's use DBSCAN."
   ]
  },
  {
   "cell_type": "code",
   "execution_count": 55,
   "metadata": {
    "collapsed": false
   },
   "outputs": [
    {
     "data": {
      "text/plain": [
       "DBSCAN(algorithm='auto', eps=0.5, leaf_size=30, metric='euclidean',\n",
       "    min_samples=5, p=None, random_state=None)"
      ]
     },
     "execution_count": 55,
     "metadata": {},
     "output_type": "execute_result"
    }
   ],
   "source": [
    "from sklearn.cluster import DBSCAN\n",
    "db_scan = DBSCAN()\n",
    "db_scan.fit(X)\n"
   ]
  },
  {
   "cell_type": "code",
   "execution_count": 56,
   "metadata": {
    "collapsed": false
   },
   "outputs": [
    {
     "data": {
      "text/plain": [
       "array([-1, -1, -1, -1, -1, -1, -1, -1, -1, -1, -1, -1, -1, -1, -1, -1, -1,\n",
       "       -1, -1, -1, -1, -1, -1, -1, -1, -1, -1, -1, -1, -1, -1, -1, -1, -1,\n",
       "       -1, -1, -1, -1, -1, -1, -1, -1, -1, -1, -1, -1, -1, -1, -1, -1, -1,\n",
       "       -1, -1, -1, -1, -1, -1, -1, -1, -1, -1, -1, -1, -1, -1, -1, -1, -1,\n",
       "       -1, -1, -1, -1, -1, -1, -1, -1, -1, -1, -1, -1, -1, -1, -1, -1, -1,\n",
       "       -1, -1, -1, -1, -1, -1, -1, -1, -1, -1, -1, -1, -1, -1, -1, -1, -1,\n",
       "       -1, -1, -1, -1, -1, -1, -1, -1, -1, -1, -1, -1, -1, -1, -1, -1, -1,\n",
       "       -1, -1, -1, -1, -1, -1, -1, -1, -1, -1, -1, -1, -1, -1, -1, -1, -1,\n",
       "       -1, -1, -1, -1, -1, -1, -1, -1, -1, -1, -1, -1, -1, -1, -1, -1, -1,\n",
       "       -1, -1, -1, -1, -1, -1, -1, -1, -1, -1, -1, -1, -1, -1, -1, -1, -1,\n",
       "       -1, -1, -1, -1, -1, -1, -1, -1, -1, -1, -1, -1, -1, -1, -1, -1, -1,\n",
       "       -1, -1, -1, -1,  0, -1, -1, -1, -1, -1, -1, -1, -1, -1, -1, -1, -1,\n",
       "       -1, -1, -1, -1, -1, -1, -1, -1, -1, -1, -1, -1, -1, -1, -1, -1, -1,\n",
       "       -1, -1, -1, -1, -1, -1, -1, -1, -1, -1, -1, -1, -1, -1, -1, -1, -1,\n",
       "       -1, -1, -1, -1, -1, -1, -1, -1, -1, -1, -1, -1, -1, -1, -1, -1, -1,\n",
       "       -1, -1, -1, -1, -1, -1, -1])"
      ]
     },
     "execution_count": 56,
     "metadata": {},
     "output_type": "execute_result"
    }
   ],
   "source": [
    "db_scan.labels_[::10]"
   ]
  },
  {
   "cell_type": "code",
   "execution_count": 58,
   "metadata": {
    "collapsed": false
   },
   "outputs": [
    {
     "data": {
      "text/plain": [
       "numpy.ndarray"
      ]
     },
     "execution_count": 58,
     "metadata": {},
     "output_type": "execute_result"
    }
   ],
   "source": [
    "y = db_scan.labels_\n",
    "type(y)"
   ]
  },
  {
   "cell_type": "code",
   "execution_count": 59,
   "metadata": {
    "collapsed": true
   },
   "outputs": [],
   "source": [
    "df['labels'] = y"
   ]
  },
  {
   "cell_type": "code",
   "execution_count": 61,
   "metadata": {
    "collapsed": false
   },
   "outputs": [
    {
     "data": {
      "text/html": [
       "<div>\n",
       "<table border=\"1\" class=\"dataframe\">\n",
       "  <thead>\n",
       "    <tr style=\"text-align: right;\">\n",
       "      <th></th>\n",
       "      <th>id</th>\n",
       "      <th>content</th>\n",
       "      <th>labels</th>\n",
       "    </tr>\n",
       "  </thead>\n",
       "  <tbody>\n",
       "    <tr>\n",
       "      <th>0</th>\n",
       "      <td>AEG_Electrolux_60840_Lavamat__Opinion_1506705....</td>\n",
       "      <td>'Silencio y facilidad. Con estas dos palabras...</td>\n",
       "      <td>-1</td>\n",
       "    </tr>\n",
       "    <tr>\n",
       "      <th>1</th>\n",
       "      <td>AEG_Electrolux_62610_Lavamat__Opinion_2000923....</td>\n",
       "      <td>'Hola compis!No sabía como se ponía una lavad...</td>\n",
       "      <td>-1</td>\n",
       "    </tr>\n",
       "    <tr>\n",
       "      <th>2</th>\n",
       "      <td>AEG_Electrolux_L14800VI__Opinion_2005396.html.txt</td>\n",
       "      <td>'Esta lavadora es de lo más práctica para aqu...</td>\n",
       "      <td>-1</td>\n",
       "    </tr>\n",
       "    <tr>\n",
       "      <th>3</th>\n",
       "      <td>AEG_Electrolux_L6227FL__Opinion_2140710.html.txt</td>\n",
       "      <td>'Buenas tardes amigos y compañeros de ciao......</td>\n",
       "      <td>-1</td>\n",
       "    </tr>\n",
       "    <tr>\n",
       "      <th>4</th>\n",
       "      <td>AEG_Electrolux_L62280FL__Opinion_2151025.html.txt</td>\n",
       "      <td>'Empecemos por una ventaja muy importante: la...</td>\n",
       "      <td>-1</td>\n",
       "    </tr>\n",
       "  </tbody>\n",
       "</table>\n",
       "</div>"
      ],
      "text/plain": [
       "                                                  id  \\\n",
       "0  AEG_Electrolux_60840_Lavamat__Opinion_1506705....   \n",
       "1  AEG_Electrolux_62610_Lavamat__Opinion_2000923....   \n",
       "2  AEG_Electrolux_L14800VI__Opinion_2005396.html.txt   \n",
       "3   AEG_Electrolux_L6227FL__Opinion_2140710.html.txt   \n",
       "4  AEG_Electrolux_L62280FL__Opinion_2151025.html.txt   \n",
       "\n",
       "                                             content  labels  \n",
       "0   'Silencio y facilidad. Con estas dos palabras...      -1  \n",
       "1   'Hola compis!No sabía como se ponía una lavad...      -1  \n",
       "2   'Esta lavadora es de lo más práctica para aqu...      -1  \n",
       "3   'Buenas tardes amigos y compañeros de ciao......      -1  \n",
       "4   'Empecemos por una ventaja muy importante: la...      -1  "
      ]
     },
     "execution_count": 61,
     "metadata": {},
     "output_type": "execute_result"
    }
   ],
   "source": [
    "df.head()"
   ]
  },
  {
   "cell_type": "code",
   "execution_count": 62,
   "metadata": {
    "collapsed": false
   },
   "outputs": [
    {
     "data": {
      "text/plain": [
       "-1    2596\n",
       " 0      22\n",
       "Name: labels, dtype: int64"
      ]
     },
     "execution_count": 62,
     "metadata": {},
     "output_type": "execute_result"
    }
   ],
   "source": [
    "df['labels'].value_counts()"
   ]
  },
  {
   "cell_type": "code",
   "execution_count": null,
   "metadata": {
    "collapsed": true
   },
   "outputs": [],
   "source": []
  }
 ],
 "metadata": {
  "kernelspec": {
   "display_name": "Python 3",
   "language": "python",
   "name": "python3"
  },
  "language_info": {
   "codemirror_mode": {
    "name": "ipython",
    "version": 3
   },
   "file_extension": ".py",
   "mimetype": "text/x-python",
   "name": "python",
   "nbconvert_exporter": "python",
   "pygments_lexer": "ipython3",
   "version": "3.5.1"
  }
 },
 "nbformat": 4,
 "nbformat_minor": 0
}
